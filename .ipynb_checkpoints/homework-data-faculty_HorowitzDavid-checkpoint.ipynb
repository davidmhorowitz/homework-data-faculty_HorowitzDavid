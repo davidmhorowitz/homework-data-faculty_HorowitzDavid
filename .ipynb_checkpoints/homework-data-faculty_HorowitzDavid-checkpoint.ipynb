{
 "cells": [
  {
   "cell_type": "markdown",
   "id": "326c68ea-e534-4c7b-92cd-b152e2ab28f3",
   "metadata": {},
   "source": [
    "# Scraping Intro Homework: Columbia J-School Data Faculty\n",
    "\n",
    "In this assignment, we'll practicing our scraping skills by examining the Columbia Journalism School's listing of data faculty: https://journalism.columbia.edu/faculty?expertise=116"
   ]
  },
  {
   "cell_type": "markdown",
   "id": "ee21190f-85e3-411c-ab91-a394747c6ee3",
   "metadata": {},
   "source": [
    "### 0) Setup\n",
    "\n",
    "Import `requests`, `BeautifulSoup`, and `pandas`. Remember that even though we installed the library as `pip install beautifulsoup4`, the import statement we practiced is slightly different."
   ]
  },
  {
   "cell_type": "code",
   "execution_count": 1,
   "id": "ac4bb8ca-0a2e-4880-93a1-781d725b7c8b",
   "metadata": {},
   "outputs": [],
   "source": [
    "import requests"
   ]
  },
  {
   "cell_type": "code",
   "execution_count": 4,
   "id": "e7889485",
   "metadata": {},
   "outputs": [
    {
     "data": {
      "text/plain": [
       "<Response [200]>"
      ]
     },
     "execution_count": 4,
     "metadata": {},
     "output_type": "execute_result"
    }
   ],
   "source": [
    "requests.get('https://journalism.columbia.edu/faculty?expertise=116')"
   ]
  },
  {
   "cell_type": "code",
   "execution_count": 5,
   "id": "3a361367",
   "metadata": {},
   "outputs": [],
   "source": [
    "faculty_response = requests.get('https://journalism.columbia.edu/faculty?expertise=116')"
   ]
  },
  {
   "cell_type": "code",
   "execution_count": 8,
   "id": "61d57779",
   "metadata": {},
   "outputs": [],
   "source": []
  },
  {
   "cell_type": "code",
   "execution_count": 2,
   "id": "72ec7e63",
   "metadata": {},
   "outputs": [],
   "source": [
    "import pandas as pd"
   ]
  },
  {
   "cell_type": "code",
   "execution_count": 3,
   "id": "863f1a53",
   "metadata": {},
   "outputs": [],
   "source": [
    "from bs4 import BeautifulSoup"
   ]
  },
  {
   "cell_type": "code",
   "execution_count": 11,
   "id": "2ce12939",
   "metadata": {},
   "outputs": [],
   "source": []
  },
  {
   "cell_type": "code",
   "execution_count": 18,
   "id": "b368eec7",
   "metadata": {},
   "outputs": [
    {
     "data": {
      "text/plain": [
       "<title>Faculty | Columbia Journalism School</title>"
      ]
     },
     "execution_count": 18,
     "metadata": {},
     "output_type": "execute_result"
    }
   ],
   "source": []
  },
  {
   "cell_type": "markdown",
   "id": "1057c416-4fe6-435c-9feb-aee4ee3e1d4e",
   "metadata": {},
   "source": [
    "### 1) Grab the HTML for the webpage linked above\n",
    "\n",
    "Use `requests` to get the HTML, assigning it to a variable"
   ]
  },
  {
   "cell_type": "code",
   "execution_count": 19,
   "id": "249f7c7c-f999-45a4-bbd1-553d08ecb6f3",
   "metadata": {},
   "outputs": [],
   "source": [
    "faculty_html = faculty_response.text"
   ]
  },
  {
   "cell_type": "markdown",
   "id": "92457832-c428-42dc-9f57-7dd9d037856b",
   "metadata": {},
   "source": [
    "### 2) Use `BeautifulSoup` to convert the HTML into its DOM representation"
   ]
  },
  {
   "cell_type": "code",
   "execution_count": 21,
   "id": "31b1c404-b7dc-4842-bd13-c75e77b51477",
   "metadata": {},
   "outputs": [],
   "source": [
    "faculty_els = BeautifulSoup(faculty_html)"
   ]
  },
  {
   "cell_type": "markdown",
   "id": "a5c1fd45-4005-48d7-bca2-c8c523b1c060",
   "metadata": {},
   "source": [
    "### 3) Use `.select(...)` to select all elements representing a faculty member\n",
    "\n",
    "Assign the resulting elements to a variable named `faculty_els`.\n",
    "\n",
    "You'll want \"View Source\" or pop open the Element Inspector to figure out which elements to target.\n",
    "\n",
    "Note: An element's `class` attribute can contain *multiple* classes, separated by spaces. For example: `<div class=\"potato hamburger\">Hello</div>` has two classes, `potato` and `hamburger`. \n",
    "\n",
    "A CSS selector for *either* of the classes — `soup.select(\".potato\")` *or* `soup.select(\".hamburger\")` — will both match that element."
   ]
  },
  {
   "cell_type": "code",
   "execution_count": 28,
   "id": "e7791e7f-c6f3-4f2a-bd7e-b55c3b40022d",
   "metadata": {},
   "outputs": [
    {
     "data": {
      "text/plain": [
       "[<a class=\"about-link\" href=\"/faculty/denise-ajiri\">Denise Ajiri</a>,\n",
       " <a class=\"about-link\" href=\"/faculty/andrea-fuller\">Andrea Fuller</a>,\n",
       " <a class=\"about-link\" href=\"/faculty/robert-gebeloff\">Robert Gebeloff</a>,\n",
       " <a class=\"about-link\" href=\"/faculty/mark-hansen\">Mark Hansen</a>,\n",
       " <a class=\"about-link\" href=\"/faculty/tom-meagher\">Tom  Meagher</a>,\n",
       " <a class=\"about-link\" href=\"/faculty/dhrumil-mehta\">Dhrumil Mehta</a>,\n",
       " <a class=\"about-link\" href=\"/faculty/matt-rocheleau\">Matt Rocheleau</a>,\n",
       " <a class=\"about-link\" href=\"/faculty/giannina-segnini\">Giannina Segnini</a>]"
      ]
     },
     "execution_count": 28,
     "metadata": {},
     "output_type": "execute_result"
    }
   ],
   "source": [
    "faculty_els.select('.about-link')"
   ]
  },
  {
   "cell_type": "markdown",
   "id": "e4181ff2-64d6-47e7-8cb0-4bcb453b5a24",
   "metadata": {},
   "source": [
    "### 4) Count the number of matching elements, using `len`\n",
    "\n",
    "Does it match the number of faculty you see on the page? (It should.)"
   ]
  },
  {
   "cell_type": "code",
   "execution_count": null,
   "id": "073e34ce-0836-4657-a4ea-2b22c8deb4ab",
   "metadata": {},
   "outputs": [],
   "source": []
  },
  {
   "cell_type": "code",
   "execution_count": 92,
   "id": "8c663d57",
   "metadata": {},
   "outputs": [
    {
     "data": {
      "text/plain": [
       "8"
      ]
     },
     "execution_count": 92,
     "metadata": {},
     "output_type": "execute_result"
    }
   ],
   "source": [
    "len(faculty_els.select('.faculty-bio'))"
   ]
  },
  {
   "cell_type": "code",
   "execution_count": 126,
   "id": "049a6a69",
   "metadata": {},
   "outputs": [
    {
     "data": {
      "text/plain": [
       "[<article class=\"node node-faculty-bio node-teaser teaser faculty-bio\" id=\"node-1596\">\n",
       " <div class=\"faculty-photo\">\n",
       " <a href=\"/faculty/denise-ajiri\"><img alt=\"\" class=\"img-responsive\" height=\"269\" src=\"https://journalism.columbia.edu/files/soj/styles/faculty_photo/public/content/image/2022/31/f-88-6-13176708_01wgebpz_denise.jpg?itok=k-ND0dPI\" width=\"269\"/></a> </div>\n",
       " <h2 class=\"title regular\"><a class=\"about-link\" href=\"/faculty/denise-ajiri\">Denise Ajiri</a></h2>\n",
       " <div class=\"sub-title\"><p>Adjunct Assistant Professor</p>\n",
       " </div>\n",
       " </article>,\n",
       " <article class=\"node node-faculty-bio node-teaser teaser faculty-bio\" id=\"node-1156\">\n",
       " <div class=\"faculty-photo\">\n",
       " <a href=\"/faculty/andrea-fuller\"><img alt=\"\" class=\"img-responsive\" height=\"269\" src=\"https://journalism.columbia.edu/files/soj/styles/faculty_photo/public/content/image/2019/04/andrea-fuller.jpg?itok=o-b7JFxn\" width=\"269\"/></a> </div>\n",
       " <h2 class=\"title regular\"><a class=\"about-link\" href=\"/faculty/andrea-fuller\">Andrea Fuller</a></h2>\n",
       " <div class=\"sub-title\"><p>Adjunct Faculty</p>\n",
       " </div>\n",
       " </article>,\n",
       " <article class=\"node node-faculty-bio node-teaser teaser faculty-bio\" id=\"node-964\">\n",
       " <div class=\"faculty-photo\">\n",
       " <a href=\"/faculty/robert-gebeloff\"><img alt=\"\" class=\"img-responsive\" height=\"269\" src=\"https://journalism.columbia.edu/files/soj/styles/faculty_photo/public/content/image/2018/08/gebeloff_mug.jpg?itok=xobEqTnF\" width=\"269\"/></a> </div>\n",
       " <h2 class=\"title regular\"><a class=\"about-link\" href=\"/faculty/robert-gebeloff\">Robert Gebeloff</a></h2>\n",
       " <div class=\"sub-title\"><p>Adjunct Faculty</p>\n",
       " </div>\n",
       " </article>,\n",
       " <article class=\"node node-faculty-bio node-teaser teaser faculty-bio\" id=\"node-329\">\n",
       " <div class=\"faculty-photo\">\n",
       " <a href=\"/faculty/mark-hansen\"><img alt=\"\" class=\"img-responsive\" height=\"269\" src=\"https://journalism.columbia.edu/files/soj/styles/faculty_photo/public/content/image/2019/13/unnamed.jpg?itok=2XuOucM3\" width=\"269\"/></a> </div>\n",
       " <h2 class=\"title regular\"><a class=\"about-link\" href=\"/faculty/mark-hansen\">Mark Hansen</a></h2>\n",
       " <div class=\"sub-title\"><p>David and Helen Gurley Brown Professor of Journalism and Innovation; Director, David and Helen Gurley Brown Institute of Media Innovation</p>\n",
       " </div>\n",
       " </article>,\n",
       " <article class=\"node node-faculty-bio node-teaser teaser faculty-bio\" id=\"node-987\">\n",
       " <div class=\"faculty-photo\">\n",
       " <a href=\"/faculty/tom-meagher\"><img alt=\"\" class=\"img-responsive\" height=\"269\" src=\"https://journalism.columbia.edu/files/soj/styles/faculty_photo/public/content/image/2018/10/meagher_headshot.jpg?itok=_Z-lIZ0K\" width=\"269\"/></a> </div>\n",
       " <h2 class=\"title regular\"><a class=\"about-link\" href=\"/faculty/tom-meagher\">Tom  Meagher</a></h2>\n",
       " <div class=\"sub-title\"><p>Adjunct Faculty</p>\n",
       " </div>\n",
       " </article>,\n",
       " <article class=\"node node-faculty-bio node-teaser teaser faculty-bio\" id=\"node-1556\">\n",
       " <div class=\"faculty-photo\">\n",
       " <a href=\"/faculty/dhrumil-mehta\"><img alt=\"\" class=\"img-responsive\" height=\"269\" src=\"https://journalism.columbia.edu/files/soj/styles/faculty_photo/public/content/image/2021/48/dhrumil-mehta.jpg?itok=uy15UL2s\" width=\"269\"/></a> </div>\n",
       " <h2 class=\"title regular\"><a class=\"about-link\" href=\"/faculty/dhrumil-mehta\">Dhrumil Mehta</a></h2>\n",
       " <div class=\"sub-title\"><p>Associate Professor in Data Journalism; Deputy Director of the Tow Center for Digital Journalism</p>\n",
       " </div>\n",
       " </article>,\n",
       " <article class=\"node node-faculty-bio node-teaser teaser faculty-bio\" id=\"node-1525\">\n",
       " <div class=\"faculty-photo\">\n",
       " <a href=\"/faculty/matt-rocheleau\"><img alt=\"\" class=\"img-responsive\" height=\"269\" src=\"https://journalism.columbia.edu/files/soj/styles/faculty_photo/public/content/image/2021/33/matt-rocheleau.jpg?itok=Jva3rKfB\" width=\"269\"/></a> </div>\n",
       " <h2 class=\"title regular\"><a class=\"about-link\" href=\"/faculty/matt-rocheleau\">Matt Rocheleau</a></h2>\n",
       " <div class=\"sub-title\"><p>Adjunct Faculty</p>\n",
       " </div>\n",
       " </article>,\n",
       " <article class=\"node node-faculty-bio node-teaser teaser faculty-bio\" id=\"node-338\">\n",
       " <div class=\"faculty-photo\">\n",
       " <a href=\"/faculty/giannina-segnini\"><img alt=\"\" class=\"img-responsive\" height=\"269\" src=\"https://journalism.columbia.edu/files/soj/styles/faculty_photo/public/content/image/2016/21/giannina_segnini.jpg?itok=IOEYXzCH\" width=\"269\"/></a> </div>\n",
       " <h2 class=\"title regular\"><a class=\"about-link\" href=\"/faculty/giannina-segnini\">Giannina Segnini</a></h2>\n",
       " <div class=\"sub-title\"><p>John S. and James L. Knight Professor of Professional Practice in Data Journalism</p>\n",
       " </div>\n",
       " </article>]"
      ]
     },
     "execution_count": 126,
     "metadata": {},
     "output_type": "execute_result"
    }
   ],
   "source": [
    "faculty_els.select('.faculty-bio')"
   ]
  },
  {
   "cell_type": "code",
   "execution_count": 125,
   "id": "e14a8f03",
   "metadata": {},
   "outputs": [],
   "source": []
  },
  {
   "cell_type": "markdown",
   "id": "10dec4f1-86fa-4776-8964-468aebe36b6a",
   "metadata": {},
   "source": [
    "### 5) For each faculty member, print their name, title, and faculty page URL\n",
    "\n",
    "You'll want to construct a `for` loop. In each iteration of the loop, print out something that looks like this:\n",
    "\n",
    "```\n",
    "Denise Ajiri's title is 'Adjunct Assistant Professor'. You can find more information about them @ /faculty/denise-ajiri\n",
    "---\n",
    "```\n",
    "\n",
    "You'll note that the \"href\" is not a complete URL, but rather a \"[relative path](https://www.w3schools.com/html/html_filepaths.asp)\". Don't worry too much about that for now, although you're welcome to try \"solving\" that part."
   ]
  },
  {
   "cell_type": "code",
   "execution_count": 155,
   "id": "fc38e978-2079-4fe7-bd4e-e4dc20cba4d4",
   "metadata": {},
   "outputs": [
    {
     "name": "stdout",
     "output_type": "stream",
     "text": [
      "Denise Ajiri's title is \"Adjunct Assistant Professor\n",
      ".\" You can find out more information about them @/faculty/denise-ajiri.\n",
      "Andrea Fuller's title is \"Adjunct Faculty\n",
      ".\" You can find out more information about them @/faculty/andrea-fuller.\n",
      "Robert Gebeloff's title is \"Adjunct Faculty\n",
      ".\" You can find out more information about them @/faculty/robert-gebeloff.\n",
      "Mark Hansen's title is \"David and Helen Gurley Brown Professor of Journalism and Innovation; Director, David and Helen Gurley Brown Institute of Media Innovation\n",
      ".\" You can find out more information about them @/faculty/mark-hansen.\n",
      "Tom  Meagher's title is \"Adjunct Faculty\n",
      ".\" You can find out more information about them @/faculty/tom-meagher.\n",
      "Dhrumil Mehta's title is \"Associate Professor in Data Journalism; Deputy Director of the Tow Center for Digital Journalism\n",
      ".\" You can find out more information about them @/faculty/dhrumil-mehta.\n",
      "Matt Rocheleau's title is \"Adjunct Faculty\n",
      ".\" You can find out more information about them @/faculty/matt-rocheleau.\n",
      "Giannina Segnini's title is \"John S. and James L. Knight Professor of Professional Practice in Data Journalism\n",
      ".\" You can find out more information about them @/faculty/giannina-segnini.\n"
     ]
    }
   ],
   "source": [
    "for teacher in faculty_els.select('.faculty-bio'):\n",
    "    name = teacher.select(\".about-link\")[0].text\n",
    "    subtitle = teacher.select(\".sub-title\")[0].text\n",
    "    link = teacher.select(\"a\")[0]['href']\n",
    "    print(f\"{name}'s title is \\\"{subtitle}.\\\" You can find out more information about them @{link}.\")\n",
    "#resultset seems to be a list"
   ]
  },
  {
   "cell_type": "code",
   "execution_count": 156,
   "id": "0ffba33c",
   "metadata": {},
   "outputs": [],
   "source": [
    "import pandas as pd"
   ]
  },
  {
   "cell_type": "code",
   "execution_count": 157,
   "id": "43a93599",
   "metadata": {},
   "outputs": [
    {
     "data": {
      "text/plain": [
       "<article class=\"node node-faculty-bio node-teaser teaser faculty-bio\" id=\"node-338\">\n",
       "<div class=\"faculty-photo\">\n",
       "<a href=\"/faculty/giannina-segnini\"><img alt=\"\" class=\"img-responsive\" height=\"269\" src=\"https://journalism.columbia.edu/files/soj/styles/faculty_photo/public/content/image/2016/21/giannina_segnini.jpg?itok=IOEYXzCH\" width=\"269\"/></a> </div>\n",
       "<h2 class=\"title regular\"><a class=\"about-link\" href=\"/faculty/giannina-segnini\">Giannina Segnini</a></h2>\n",
       "<div class=\"sub-title\"><p>John S. and James L. Knight Professor of Professional Practice in Data Journalism</p>\n",
       "</div>\n",
       "</article>"
      ]
     },
     "execution_count": 157,
     "metadata": {},
     "output_type": "execute_result"
    }
   ],
   "source": []
  },
  {
   "cell_type": "markdown",
   "id": "1c90e4fa-fb91-4cc4-bf2d-84d692bfc9b2",
   "metadata": {},
   "source": [
    "### 6) Now, let's do the same thing, but storing the info in a `pandas` `DataFrame`\n",
    "\n",
    "Specifically, a `DataFrame` with the columns `name`, `title`, `href`."
   ]
  },
  {
   "cell_type": "code",
   "execution_count": 172,
   "id": "d0e982d7-4657-4ed3-ae4b-cf3e900c2763",
   "metadata": {},
   "outputs": [],
   "source": [
    "df = pd.DataFrame([{\n",
    "    'name' : teacher.select('.about-link')[0].text,\n",
    "    'title' : teacher.select('.sub-title')[0].text.strip(),\n",
    "    'href' : teacher.select('a')[0]['href']\n",
    "} for teacher in faculty_els.select('.faculty-bio')])\n",
    "\n",
    "#It kept adding \"\\n\" to the end of the \"title\" for some reason, so I used the strip function to remove it."
   ]
  },
  {
   "cell_type": "markdown",
   "id": "ae6ed103-7aa1-4d24-9842-20a7c51eb1f4",
   "metadata": {},
   "source": [
    "### 7) Using that `DataFrame`, calculate how many are \"Adjunct Faculty\""
   ]
  },
  {
   "cell_type": "code",
   "execution_count": 174,
   "id": "977867a9-10b6-4fab-b6e4-dfb4b57d3f56",
   "metadata": {},
   "outputs": [
    {
     "data": {
      "text/html": [
       "<div>\n",
       "<style scoped>\n",
       "    .dataframe tbody tr th:only-of-type {\n",
       "        vertical-align: middle;\n",
       "    }\n",
       "\n",
       "    .dataframe tbody tr th {\n",
       "        vertical-align: top;\n",
       "    }\n",
       "\n",
       "    .dataframe thead th {\n",
       "        text-align: right;\n",
       "    }\n",
       "</style>\n",
       "<table border=\"1\" class=\"dataframe\">\n",
       "  <thead>\n",
       "    <tr style=\"text-align: right;\">\n",
       "      <th></th>\n",
       "      <th>name</th>\n",
       "      <th>title</th>\n",
       "      <th>href</th>\n",
       "    </tr>\n",
       "  </thead>\n",
       "  <tbody>\n",
       "    <tr>\n",
       "      <th>0</th>\n",
       "      <td>Denise Ajiri</td>\n",
       "      <td>Adjunct Assistant Professor</td>\n",
       "      <td>/faculty/denise-ajiri</td>\n",
       "    </tr>\n",
       "    <tr>\n",
       "      <th>1</th>\n",
       "      <td>Andrea Fuller</td>\n",
       "      <td>Adjunct Faculty</td>\n",
       "      <td>/faculty/andrea-fuller</td>\n",
       "    </tr>\n",
       "    <tr>\n",
       "      <th>2</th>\n",
       "      <td>Robert Gebeloff</td>\n",
       "      <td>Adjunct Faculty</td>\n",
       "      <td>/faculty/robert-gebeloff</td>\n",
       "    </tr>\n",
       "    <tr>\n",
       "      <th>3</th>\n",
       "      <td>Mark Hansen</td>\n",
       "      <td>David and Helen Gurley Brown Professor of Jour...</td>\n",
       "      <td>/faculty/mark-hansen</td>\n",
       "    </tr>\n",
       "    <tr>\n",
       "      <th>4</th>\n",
       "      <td>Tom  Meagher</td>\n",
       "      <td>Adjunct Faculty</td>\n",
       "      <td>/faculty/tom-meagher</td>\n",
       "    </tr>\n",
       "    <tr>\n",
       "      <th>5</th>\n",
       "      <td>Dhrumil Mehta</td>\n",
       "      <td>Associate Professor in Data Journalism; Deputy...</td>\n",
       "      <td>/faculty/dhrumil-mehta</td>\n",
       "    </tr>\n",
       "    <tr>\n",
       "      <th>6</th>\n",
       "      <td>Matt Rocheleau</td>\n",
       "      <td>Adjunct Faculty</td>\n",
       "      <td>/faculty/matt-rocheleau</td>\n",
       "    </tr>\n",
       "    <tr>\n",
       "      <th>7</th>\n",
       "      <td>Giannina Segnini</td>\n",
       "      <td>John S. and James L. Knight Professor of Profe...</td>\n",
       "      <td>/faculty/giannina-segnini</td>\n",
       "    </tr>\n",
       "  </tbody>\n",
       "</table>\n",
       "</div>"
      ],
      "text/plain": [
       "               name                                              title  \\\n",
       "0      Denise Ajiri                        Adjunct Assistant Professor   \n",
       "1     Andrea Fuller                                    Adjunct Faculty   \n",
       "2   Robert Gebeloff                                    Adjunct Faculty   \n",
       "3       Mark Hansen  David and Helen Gurley Brown Professor of Jour...   \n",
       "4      Tom  Meagher                                    Adjunct Faculty   \n",
       "5     Dhrumil Mehta  Associate Professor in Data Journalism; Deputy...   \n",
       "6    Matt Rocheleau                                    Adjunct Faculty   \n",
       "7  Giannina Segnini  John S. and James L. Knight Professor of Profe...   \n",
       "\n",
       "                        href  \n",
       "0      /faculty/denise-ajiri  \n",
       "1     /faculty/andrea-fuller  \n",
       "2   /faculty/robert-gebeloff  \n",
       "3       /faculty/mark-hansen  \n",
       "4       /faculty/tom-meagher  \n",
       "5     /faculty/dhrumil-mehta  \n",
       "6    /faculty/matt-rocheleau  \n",
       "7  /faculty/giannina-segnini  "
      ]
     },
     "execution_count": 174,
     "metadata": {},
     "output_type": "execute_result"
    }
   ],
   "source": [
    "df"
   ]
  },
  {
   "cell_type": "code",
   "execution_count": 178,
   "id": "fa3c0e1a",
   "metadata": {},
   "outputs": [
    {
     "data": {
      "text/plain": [
       "4"
      ]
     },
     "execution_count": 178,
     "metadata": {},
     "output_type": "execute_result"
    }
   ],
   "source": [
    "len(df[df['title'].str.contains('Adjunct Faculty')])"
   ]
  },
  {
   "cell_type": "markdown",
   "id": "fac108f8-9c41-451a-a481-f2bfde3372e5",
   "metadata": {},
   "source": [
    "---\n",
    "\n",
    "---\n",
    "\n",
    "---"
   ]
  }
 ],
 "metadata": {
  "kernelspec": {
   "display_name": "Python 3 (ipykernel)",
   "language": "python",
   "name": "python3"
  },
  "language_info": {
   "codemirror_mode": {
    "name": "ipython",
    "version": 3
   },
   "file_extension": ".py",
   "mimetype": "text/x-python",
   "name": "python",
   "nbconvert_exporter": "python",
   "pygments_lexer": "ipython3",
   "version": "3.10.11"
  }
 },
 "nbformat": 4,
 "nbformat_minor": 5
}
